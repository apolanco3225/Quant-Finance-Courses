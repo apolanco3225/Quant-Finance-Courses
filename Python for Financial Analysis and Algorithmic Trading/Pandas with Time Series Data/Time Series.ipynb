{
 "cells": [
  {
   "cell_type": "code",
   "execution_count": 1,
   "id": "f54c4724-2755-49b2-b4e5-fbcd75b3f2f0",
   "metadata": {},
   "outputs": [],
   "source": [
    "from datetime import datetime\n",
    "\n",
    "import numpy as np\n",
    "import pandas as pd\n",
    "\n",
    "import matplotlib.pyplot as plt"
   ]
  },
  {
   "cell_type": "code",
   "execution_count": 4,
   "id": "568833d0-f56c-4561-950c-e3196a858e72",
   "metadata": {},
   "outputs": [],
   "source": [
    "input_year = 2007\n",
    "input_month = 1\n",
    "input_day = 2\n",
    "input_hour = 13\n",
    "input_minute = 30\n",
    "input_seconds = 15"
   ]
  },
  {
   "cell_type": "code",
   "execution_count": 6,
   "id": "a6f21093-c142-498c-b017-8ec782061d25",
   "metadata": {},
   "outputs": [
    {
     "data": {
      "text/plain": [
       "datetime.datetime(2007, 1, 2, 0, 0)"
      ]
     },
     "execution_count": 6,
     "metadata": {},
     "output_type": "execute_result"
    }
   ],
   "source": [
    "date = datetime(\n",
    "    year=input_year, \n",
    "    month=input_month, \n",
    "    day=input_day\n",
    ")\n",
    "date"
   ]
  },
  {
   "cell_type": "code",
   "execution_count": 8,
   "id": "04b63763-8c37-472d-b17b-e5afe97dfc28",
   "metadata": {},
   "outputs": [
    {
     "data": {
      "text/plain": [
       "datetime.datetime(2007, 1, 2, 13, 30, 15)"
      ]
     },
     "execution_count": 8,
     "metadata": {},
     "output_type": "execute_result"
    }
   ],
   "source": [
    "date = datetime(\n",
    "    year=input_year, \n",
    "    month=input_month, \n",
    "    day=input_day, \n",
    "    hour=input_hour, \n",
    "    minute=input_minute, \n",
    "    second=input_seconds\n",
    ")\n",
    "date"
   ]
  },
  {
   "cell_type": "code",
   "execution_count": 9,
   "id": "262b04c2-5897-4e77-a593-f673f54d9b33",
   "metadata": {},
   "outputs": [
    {
     "name": "stdout",
     "output_type": "stream",
     "text": [
      "<class 'datetime.datetime'>\n"
     ]
    }
   ],
   "source": [
    "print(type(date))"
   ]
  },
  {
   "cell_type": "code",
   "execution_count": 11,
   "id": "7a2a0d08-855d-4858-a50b-15d589747b51",
   "metadata": {},
   "outputs": [
    {
     "name": "stdout",
     "output_type": "stream",
     "text": [
      "2007\n",
      "1\n"
     ]
    }
   ],
   "source": [
    "print(date.year)\n",
    "print(date.month)"
   ]
  },
  {
   "cell_type": "code",
   "execution_count": 12,
   "id": "5ddcbc78-0efa-4903-a8a7-98e2e665a886",
   "metadata": {},
   "outputs": [
    {
     "data": {
      "text/plain": [
       "[datetime.datetime(2016, 1, 1, 0, 0), datetime.datetime(2016, 1, 2, 0, 0)]"
      ]
     },
     "execution_count": 12,
     "metadata": {},
     "output_type": "execute_result"
    }
   ],
   "source": [
    "two_days = [datetime(2016, 1, 1), datetime(2016, 1, 2)]\n",
    "two_days"
   ]
  },
  {
   "cell_type": "code",
   "execution_count": 18,
   "id": "afda7edf-e91f-4393-954a-de053a9e67e1",
   "metadata": {},
   "outputs": [
    {
     "data": {
      "text/plain": [
       "DatetimeIndex(['2016-01-01', '2016-01-02'], dtype='datetime64[ns]', freq=None)"
      ]
     },
     "execution_count": 18,
     "metadata": {},
     "output_type": "execute_result"
    }
   ],
   "source": [
    "date_index = pd.DatetimeIndex(two_days)\n",
    "date_index"
   ]
  },
  {
   "cell_type": "code",
   "execution_count": 16,
   "id": "e3048cc1-2302-4a19-afa3-d339c05d7a24",
   "metadata": {},
   "outputs": [
    {
     "data": {
      "text/plain": [
       "array([[ 0.26316535,  1.55371005],\n",
       "       [-1.87895829,  1.76465101]])"
      ]
     },
     "execution_count": 16,
     "metadata": {},
     "output_type": "execute_result"
    }
   ],
   "source": [
    "data = np.random.randn(2, 2)\n",
    "data"
   ]
  },
  {
   "cell_type": "code",
   "execution_count": 17,
   "id": "252f4fbe-c7f2-4df5-8dd5-31dc4ef2ef09",
   "metadata": {},
   "outputs": [],
   "source": [
    "cols = [\"a\", \"b\"]"
   ]
  },
  {
   "cell_type": "code",
   "execution_count": 19,
   "id": "18d0d089-2345-4d9a-87e4-a655613ffce1",
   "metadata": {},
   "outputs": [
    {
     "data": {
      "text/html": [
       "<div>\n",
       "<style scoped>\n",
       "    .dataframe tbody tr th:only-of-type {\n",
       "        vertical-align: middle;\n",
       "    }\n",
       "\n",
       "    .dataframe tbody tr th {\n",
       "        vertical-align: top;\n",
       "    }\n",
       "\n",
       "    .dataframe thead th {\n",
       "        text-align: right;\n",
       "    }\n",
       "</style>\n",
       "<table border=\"1\" class=\"dataframe\">\n",
       "  <thead>\n",
       "    <tr style=\"text-align: right;\">\n",
       "      <th></th>\n",
       "      <th>a</th>\n",
       "      <th>b</th>\n",
       "    </tr>\n",
       "  </thead>\n",
       "  <tbody>\n",
       "    <tr>\n",
       "      <th>2016-01-01</th>\n",
       "      <td>0.263165</td>\n",
       "      <td>1.553710</td>\n",
       "    </tr>\n",
       "    <tr>\n",
       "      <th>2016-01-02</th>\n",
       "      <td>-1.878958</td>\n",
       "      <td>1.764651</td>\n",
       "    </tr>\n",
       "  </tbody>\n",
       "</table>\n",
       "</div>"
      ],
      "text/plain": [
       "                   a         b\n",
       "2016-01-01  0.263165  1.553710\n",
       "2016-01-02 -1.878958  1.764651"
      ]
     },
     "execution_count": 19,
     "metadata": {},
     "output_type": "execute_result"
    }
   ],
   "source": [
    "df = pd.DataFrame(\n",
    "    data=data, \n",
    "    index=date_index, \n",
    "    columns=cols\n",
    ")\n",
    "df"
   ]
  },
  {
   "cell_type": "code",
   "execution_count": 21,
   "id": "ab707d8f-b6be-4692-b6de-ec00b65be975",
   "metadata": {},
   "outputs": [
    {
     "data": {
      "text/plain": [
       "1"
      ]
     },
     "execution_count": 21,
     "metadata": {},
     "output_type": "execute_result"
    }
   ],
   "source": [
    "df.index.argmax()"
   ]
  },
  {
   "cell_type": "code",
   "execution_count": 22,
   "id": "3af8fbb4-b2a8-4a49-9bde-9f2730d60ef7",
   "metadata": {},
   "outputs": [
    {
     "data": {
      "text/plain": [
       "Timestamp('2016-01-02 00:00:00')"
      ]
     },
     "execution_count": 22,
     "metadata": {},
     "output_type": "execute_result"
    }
   ],
   "source": [
    "df.index.max()"
   ]
  },
  {
   "cell_type": "code",
   "execution_count": 24,
   "id": "15b6c2f8-1b45-4ee2-9642-b17079a85c30",
   "metadata": {},
   "outputs": [
    {
     "data": {
      "text/plain": [
       "0"
      ]
     },
     "execution_count": 24,
     "metadata": {},
     "output_type": "execute_result"
    }
   ],
   "source": [
    "df.index.argmin()"
   ]
  },
  {
   "cell_type": "code",
   "execution_count": 25,
   "id": "00e9d544-5dd0-4804-b71f-7edeb531195b",
   "metadata": {},
   "outputs": [
    {
     "data": {
      "text/plain": [
       "Timestamp('2016-01-01 00:00:00')"
      ]
     },
     "execution_count": 25,
     "metadata": {},
     "output_type": "execute_result"
    }
   ],
   "source": [
    "df.index.min()"
   ]
  },
  {
   "cell_type": "code",
   "execution_count": null,
   "id": "2da538a8-8e8d-4bb7-9715-3d1d3740ccd6",
   "metadata": {},
   "outputs": [],
   "source": []
  }
 ],
 "metadata": {
  "kernelspec": {
   "display_name": "graphml",
   "language": "python",
   "name": "graphml"
  },
  "language_info": {
   "codemirror_mode": {
    "name": "ipython",
    "version": 3
   },
   "file_extension": ".py",
   "mimetype": "text/x-python",
   "name": "python",
   "nbconvert_exporter": "python",
   "pygments_lexer": "ipython3",
   "version": "3.9.12"
  }
 },
 "nbformat": 4,
 "nbformat_minor": 5
}
