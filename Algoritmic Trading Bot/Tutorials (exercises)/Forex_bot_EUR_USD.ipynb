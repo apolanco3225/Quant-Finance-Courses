{
 "cells": [
  {
   "cell_type": "code",
   "execution_count": 72,
   "metadata": {},
   "outputs": [],
   "source": [
    "from prophet import Prophet\n",
    "from prophet import Prophet\n",
    "import copy\n",
    "\n",
    "import pandas as pd\n",
    "import pandas_ta as ta\n",
    "\n",
    "import matplotlib.pyplot as plt\n",
    "import seaborn as sns\n",
    "sns.set_style(\"darkgrid\")"
   ]
  },
  {
   "cell_type": "code",
   "execution_count": 73,
   "metadata": {},
   "outputs": [
    {
     "data": {
      "text/html": [
       "<div>\n",
       "<style scoped>\n",
       "    .dataframe tbody tr th:only-of-type {\n",
       "        vertical-align: middle;\n",
       "    }\n",
       "\n",
       "    .dataframe tbody tr th {\n",
       "        vertical-align: top;\n",
       "    }\n",
       "\n",
       "    .dataframe thead th {\n",
       "        text-align: right;\n",
       "    }\n",
       "</style>\n",
       "<table border=\"1\" class=\"dataframe\">\n",
       "  <thead>\n",
       "    <tr style=\"text-align: right;\">\n",
       "      <th></th>\n",
       "      <th>open</th>\n",
       "      <th>high</th>\n",
       "      <th>low</th>\n",
       "      <th>close</th>\n",
       "      <th>volume</th>\n",
       "    </tr>\n",
       "    <tr>\n",
       "      <th>ds</th>\n",
       "      <th></th>\n",
       "      <th></th>\n",
       "      <th></th>\n",
       "      <th></th>\n",
       "      <th></th>\n",
       "    </tr>\n",
       "  </thead>\n",
       "  <tbody>\n",
       "    <tr>\n",
       "      <th>2003-05-04 00:00:00</th>\n",
       "      <td>1.12284</td>\n",
       "      <td>1.12284</td>\n",
       "      <td>1.12284</td>\n",
       "      <td>1.12284</td>\n",
       "      <td>0.0</td>\n",
       "    </tr>\n",
       "    <tr>\n",
       "      <th>2003-05-04 01:00:00</th>\n",
       "      <td>1.12284</td>\n",
       "      <td>1.12284</td>\n",
       "      <td>1.12284</td>\n",
       "      <td>1.12284</td>\n",
       "      <td>0.0</td>\n",
       "    </tr>\n",
       "    <tr>\n",
       "      <th>2003-05-04 02:00:00</th>\n",
       "      <td>1.12284</td>\n",
       "      <td>1.12284</td>\n",
       "      <td>1.12284</td>\n",
       "      <td>1.12284</td>\n",
       "      <td>0.0</td>\n",
       "    </tr>\n",
       "    <tr>\n",
       "      <th>2003-05-04 03:00:00</th>\n",
       "      <td>1.12284</td>\n",
       "      <td>1.12284</td>\n",
       "      <td>1.12284</td>\n",
       "      <td>1.12284</td>\n",
       "      <td>0.0</td>\n",
       "    </tr>\n",
       "    <tr>\n",
       "      <th>2003-05-04 04:00:00</th>\n",
       "      <td>1.12284</td>\n",
       "      <td>1.12284</td>\n",
       "      <td>1.12284</td>\n",
       "      <td>1.12284</td>\n",
       "      <td>0.0</td>\n",
       "    </tr>\n",
       "  </tbody>\n",
       "</table>\n",
       "</div>"
      ],
      "text/plain": [
       "                        open     high      low    close  volume\n",
       "ds                                                             \n",
       "2003-05-04 00:00:00  1.12284  1.12284  1.12284  1.12284     0.0\n",
       "2003-05-04 01:00:00  1.12284  1.12284  1.12284  1.12284     0.0\n",
       "2003-05-04 02:00:00  1.12284  1.12284  1.12284  1.12284     0.0\n",
       "2003-05-04 03:00:00  1.12284  1.12284  1.12284  1.12284     0.0\n",
       "2003-05-04 04:00:00  1.12284  1.12284  1.12284  1.12284     0.0"
      ]
     },
     "execution_count": 73,
     "metadata": {},
     "output_type": "execute_result"
    }
   ],
   "source": [
    "data = pd.read_csv(\n",
    "    \"data/EURUSD_Candlestick_1_Hour_BID_04.05.2003-15.04.2023.csv\", \n",
    "    #parse_dates=True,\n",
    "    #infer_datetime_format=True\n",
    ")\n",
    "\n",
    "data.rename(columns={\"Gmt time\":\"ds\"}, inplace=True)\n",
    "data.set_index(\"ds\", inplace=True)\n",
    "data.index = data.index.str[:-4]\n",
    "\n",
    "\n",
    "data.index = pd.to_datetime(\n",
    "            data.index, \n",
    "            format = \"%d.%m.%Y %H:%M:%S\"\n",
    ")\n",
    "\n",
    "data.sort_index(inplace=True)\n",
    "data.head()"
   ]
  },
  {
   "cell_type": "code",
   "execution_count": 74,
   "metadata": {},
   "outputs": [
    {
     "name": "stdout",
     "output_type": "stream",
     "text": [
      "<class 'pandas.core.frame.DataFrame'>\n",
      "DatetimeIndex: 173390 entries, 2003-05-04 00:00:00 to 2023-04-15 23:00:00\n",
      "Data columns (total 5 columns):\n",
      " #   Column  Non-Null Count   Dtype  \n",
      "---  ------  --------------   -----  \n",
      " 0   open    173390 non-null  float64\n",
      " 1   high    173390 non-null  float64\n",
      " 2   low     173390 non-null  float64\n",
      " 3   close   173390 non-null  float64\n",
      " 4   volume  173390 non-null  float64\n",
      "dtypes: float64(5)\n",
      "memory usage: 7.9 MB\n"
     ]
    }
   ],
   "source": [
    "data.info()"
   ]
  },
  {
   "cell_type": "code",
   "execution_count": 75,
   "metadata": {},
   "outputs": [
    {
     "data": {
      "text/plain": [
       "open      0\n",
       "high      0\n",
       "low       0\n",
       "close     0\n",
       "volume    0\n",
       "dtype: int64"
      ]
     },
     "execution_count": 75,
     "metadata": {},
     "output_type": "execute_result"
    }
   ],
   "source": [
    "data.isnull().sum()"
   ]
  },
  {
   "cell_type": "code",
   "execution_count": 76,
   "metadata": {},
   "outputs": [
    {
     "name": "stdout",
     "output_type": "stream",
     "text": [
      "(123841, 6)\n"
     ]
    },
    {
     "data": {
      "text/html": [
       "<div>\n",
       "<style scoped>\n",
       "    .dataframe tbody tr th:only-of-type {\n",
       "        vertical-align: middle;\n",
       "    }\n",
       "\n",
       "    .dataframe tbody tr th {\n",
       "        vertical-align: top;\n",
       "    }\n",
       "\n",
       "    .dataframe thead th {\n",
       "        text-align: right;\n",
       "    }\n",
       "</style>\n",
       "<table border=\"1\" class=\"dataframe\">\n",
       "  <thead>\n",
       "    <tr style=\"text-align: right;\">\n",
       "      <th></th>\n",
       "      <th>open</th>\n",
       "      <th>high</th>\n",
       "      <th>low</th>\n",
       "      <th>close</th>\n",
       "      <th>volume</th>\n",
       "      <th>rsi</th>\n",
       "    </tr>\n",
       "    <tr>\n",
       "      <th>ds</th>\n",
       "      <th></th>\n",
       "      <th></th>\n",
       "      <th></th>\n",
       "      <th></th>\n",
       "      <th></th>\n",
       "      <th></th>\n",
       "    </tr>\n",
       "  </thead>\n",
       "  <tbody>\n",
       "    <tr>\n",
       "      <th>2003-05-04 21:00:00</th>\n",
       "      <td>1.12284</td>\n",
       "      <td>1.12338</td>\n",
       "      <td>1.12242</td>\n",
       "      <td>1.12305</td>\n",
       "      <td>2.905910e+07</td>\n",
       "      <td>NaN</td>\n",
       "    </tr>\n",
       "    <tr>\n",
       "      <th>2003-05-04 22:00:00</th>\n",
       "      <td>1.12274</td>\n",
       "      <td>1.12302</td>\n",
       "      <td>1.12226</td>\n",
       "      <td>1.12241</td>\n",
       "      <td>2.609180e+07</td>\n",
       "      <td>NaN</td>\n",
       "    </tr>\n",
       "    <tr>\n",
       "      <th>2003-05-04 23:00:00</th>\n",
       "      <td>1.12235</td>\n",
       "      <td>1.12235</td>\n",
       "      <td>1.12160</td>\n",
       "      <td>1.12169</td>\n",
       "      <td>2.924090e+07</td>\n",
       "      <td>NaN</td>\n",
       "    </tr>\n",
       "  </tbody>\n",
       "</table>\n",
       "</div>"
      ],
      "text/plain": [
       "                        open     high      low    close        volume  rsi\n",
       "ds                                                                        \n",
       "2003-05-04 21:00:00  1.12284  1.12338  1.12242  1.12305  2.905910e+07  NaN\n",
       "2003-05-04 22:00:00  1.12274  1.12302  1.12226  1.12241  2.609180e+07  NaN\n",
       "2003-05-04 23:00:00  1.12235  1.12235  1.12160  1.12169  2.924090e+07  NaN"
      ]
     },
     "execution_count": 76,
     "metadata": {},
     "output_type": "execute_result"
    }
   ],
   "source": [
    "data = data.query(\"volume != 0\")\n",
    "data[\"rsi\"] = ta.rsi(data.close, length=12)\n",
    "print(data.shape)\n",
    "data.head(3)"
   ]
  },
  {
   "cell_type": "code",
   "execution_count": 83,
   "metadata": {},
   "outputs": [
    {
     "name": "stdout",
     "output_type": "stream",
     "text": [
      "(1000, 7)\n"
     ]
    },
    {
     "name": "stderr",
     "output_type": "stream",
     "text": [
      "/var/folders/fn/5k0jcf411lj3q3n_3j3hjwjw0000gn/T/ipykernel_43532/2622391488.py:2: SettingWithCopyWarning: \n",
      "A value is trying to be set on a copy of a slice from a DataFrame.\n",
      "Try using .loc[row_indexer,col_indexer] = value instead\n",
      "\n",
      "See the caveats in the documentation: https://pandas.pydata.org/pandas-docs/stable/user_guide/indexing.html#returning-a-view-versus-a-copy\n",
      "  sub_data.loc[:, \"y\"] = sub_data.loc[:, \"close\"].copy(deep=True)\n"
     ]
    },
    {
     "data": {
      "text/html": [
       "<div>\n",
       "<style scoped>\n",
       "    .dataframe tbody tr th:only-of-type {\n",
       "        vertical-align: middle;\n",
       "    }\n",
       "\n",
       "    .dataframe tbody tr th {\n",
       "        vertical-align: top;\n",
       "    }\n",
       "\n",
       "    .dataframe thead th {\n",
       "        text-align: right;\n",
       "    }\n",
       "</style>\n",
       "<table border=\"1\" class=\"dataframe\">\n",
       "  <thead>\n",
       "    <tr style=\"text-align: right;\">\n",
       "      <th></th>\n",
       "      <th>open</th>\n",
       "      <th>high</th>\n",
       "      <th>low</th>\n",
       "      <th>close</th>\n",
       "      <th>volume</th>\n",
       "      <th>rsi</th>\n",
       "      <th>y</th>\n",
       "    </tr>\n",
       "    <tr>\n",
       "      <th>ds</th>\n",
       "      <th></th>\n",
       "      <th></th>\n",
       "      <th></th>\n",
       "      <th></th>\n",
       "      <th></th>\n",
       "      <th></th>\n",
       "      <th></th>\n",
       "    </tr>\n",
       "  </thead>\n",
       "  <tbody>\n",
       "    <tr>\n",
       "      <th>2003-07-01 14:00:00</th>\n",
       "      <td>1.15309</td>\n",
       "      <td>1.15547</td>\n",
       "      <td>1.15251</td>\n",
       "      <td>1.15514</td>\n",
       "      <td>2.762170e+07</td>\n",
       "      <td>65.045567</td>\n",
       "      <td>1.15514</td>\n",
       "    </tr>\n",
       "    <tr>\n",
       "      <th>2003-07-01 15:00:00</th>\n",
       "      <td>1.15529</td>\n",
       "      <td>1.16069</td>\n",
       "      <td>1.15512</td>\n",
       "      <td>1.15955</td>\n",
       "      <td>2.564890e+07</td>\n",
       "      <td>74.440259</td>\n",
       "      <td>1.15955</td>\n",
       "    </tr>\n",
       "    <tr>\n",
       "      <th>2003-07-01 16:00:00</th>\n",
       "      <td>1.15920</td>\n",
       "      <td>1.15947</td>\n",
       "      <td>1.15714</td>\n",
       "      <td>1.15758</td>\n",
       "      <td>2.944720e+08</td>\n",
       "      <td>65.819403</td>\n",
       "      <td>1.15758</td>\n",
       "    </tr>\n",
       "    <tr>\n",
       "      <th>2003-07-01 17:00:00</th>\n",
       "      <td>1.15770</td>\n",
       "      <td>1.15862</td>\n",
       "      <td>1.15717</td>\n",
       "      <td>1.15804</td>\n",
       "      <td>1.356058e+08</td>\n",
       "      <td>66.798838</td>\n",
       "      <td>1.15804</td>\n",
       "    </tr>\n",
       "    <tr>\n",
       "      <th>2003-07-01 18:00:00</th>\n",
       "      <td>1.15825</td>\n",
       "      <td>1.15838</td>\n",
       "      <td>1.15678</td>\n",
       "      <td>1.15756</td>\n",
       "      <td>1.467108e+08</td>\n",
       "      <td>64.688767</td>\n",
       "      <td>1.15756</td>\n",
       "    </tr>\n",
       "  </tbody>\n",
       "</table>\n",
       "</div>"
      ],
      "text/plain": [
       "                        open     high      low    close        volume  \\\n",
       "ds                                                                      \n",
       "2003-07-01 14:00:00  1.15309  1.15547  1.15251  1.15514  2.762170e+07   \n",
       "2003-07-01 15:00:00  1.15529  1.16069  1.15512  1.15955  2.564890e+07   \n",
       "2003-07-01 16:00:00  1.15920  1.15947  1.15714  1.15758  2.944720e+08   \n",
       "2003-07-01 17:00:00  1.15770  1.15862  1.15717  1.15804  1.356058e+08   \n",
       "2003-07-01 18:00:00  1.15825  1.15838  1.15678  1.15756  1.467108e+08   \n",
       "\n",
       "                           rsi        y  \n",
       "ds                                       \n",
       "2003-07-01 14:00:00  65.045567  1.15514  \n",
       "2003-07-01 15:00:00  74.440259  1.15955  \n",
       "2003-07-01 16:00:00  65.819403  1.15758  \n",
       "2003-07-01 17:00:00  66.798838  1.15804  \n",
       "2003-07-01 18:00:00  64.688767  1.15756  "
      ]
     },
     "execution_count": 83,
     "metadata": {},
     "output_type": "execute_result"
    }
   ],
   "source": [
    "\n",
    "sub_data = data.iloc[1000:2000, :]\n",
    "sub_data.loc[:, \"y\"] = sub_data.loc[:, \"close\"].copy(deep=True)\n",
    "\n",
    "print(sub_data.shape)\n",
    "sub_data.head()"
   ]
  },
  {
   "cell_type": "code",
   "execution_count": 84,
   "metadata": {},
   "outputs": [
    {
     "data": {
      "text/plain": [
       "Text(0, 0.5, 'Value')"
      ]
     },
     "execution_count": 84,
     "metadata": {},
     "output_type": "execute_result"
    },
    {
     "data": {
      "image/png": "[encoded data removed]",
      "text/plain": [
       "<Figure size 640x480 with 1 Axes>"
      ]
     },
     "metadata": {},
     "output_type": "display_data"
    }
   ],
   "source": [
    "sub_data.close.plot()\n",
    "plt.title(\"Signal Sub Data\")\n",
    "plt.xlabel(\"Time\")\n",
    "plt.ylabel(\"Value\")"
   ]
  },
  {
   "cell_type": "code",
   "execution_count": 80,
   "metadata": {},
   "outputs": [
    {
     "data": {
      "text/html": [
       "<div>\n",
       "<style scoped>\n",
       "    .dataframe tbody tr th:only-of-type {\n",
       "        vertical-align: middle;\n",
       "    }\n",
       "\n",
       "    .dataframe tbody tr th {\n",
       "        vertical-align: top;\n",
       "    }\n",
       "\n",
       "    .dataframe thead th {\n",
       "        text-align: right;\n",
       "    }\n",
       "</style>\n",
       "<table border=\"1\" class=\"dataframe\">\n",
       "  <thead>\n",
       "    <tr style=\"text-align: right;\">\n",
       "      <th></th>\n",
       "      <th>ds</th>\n",
       "      <th>y</th>\n",
       "    </tr>\n",
       "  </thead>\n",
       "  <tbody>\n",
       "    <tr>\n",
       "      <th>0</th>\n",
       "      <td>2003-07-01 14:00:00</td>\n",
       "      <td>1.15514</td>\n",
       "    </tr>\n",
       "    <tr>\n",
       "      <th>1</th>\n",
       "      <td>2003-07-01 15:00:00</td>\n",
       "      <td>1.15955</td>\n",
       "    </tr>\n",
       "    <tr>\n",
       "      <th>2</th>\n",
       "      <td>2003-07-01 16:00:00</td>\n",
       "      <td>1.15758</td>\n",
       "    </tr>\n",
       "    <tr>\n",
       "      <th>3</th>\n",
       "      <td>2003-07-01 17:00:00</td>\n",
       "      <td>1.15804</td>\n",
       "    </tr>\n",
       "    <tr>\n",
       "      <th>4</th>\n",
       "      <td>2003-07-01 18:00:00</td>\n",
       "      <td>1.15756</td>\n",
       "    </tr>\n",
       "  </tbody>\n",
       "</table>\n",
       "</div>"
      ],
      "text/plain": [
       "                   ds        y\n",
       "0 2003-07-01 14:00:00  1.15514\n",
       "1 2003-07-01 15:00:00  1.15955\n",
       "2 2003-07-01 16:00:00  1.15758\n",
       "3 2003-07-01 17:00:00  1.15804\n",
       "4 2003-07-01 18:00:00  1.15756"
      ]
     },
     "execution_count": 80,
     "metadata": {},
     "output_type": "execute_result"
    }
   ],
   "source": [
    "sub_data.reset_index(inplace=True)\n",
    "sub_data = sub_data[[\"ds\", \"y\"]]\n",
    "sub_data.head()"
   ]
  },
  {
   "cell_type": "code",
   "execution_count": 81,
   "metadata": {},
   "outputs": [
    {
     "name": "stderr",
     "output_type": "stream",
     "text": [
      "09:28:40 - cmdstanpy - INFO - Chain [1] start processing\n",
      "09:28:40 - cmdstanpy - INFO - Chain [1] done processing\n"
     ]
    },
    {
     "data": {
      "text/plain": [
       "<prophet.forecaster.Prophet at 0x7f9a526ace20>"
      ]
     },
     "execution_count": 81,
     "metadata": {},
     "output_type": "execute_result"
    }
   ],
   "source": [
    "model = Prophet()\n",
    "model.fit(sub_data)"
   ]
  },
  {
   "cell_type": "code",
   "execution_count": 96,
   "metadata": {},
   "outputs": [
    {
     "data": {
      "text/html": [
       "<div>\n",
       "<style scoped>\n",
       "    .dataframe tbody tr th:only-of-type {\n",
       "        vertical-align: middle;\n",
       "    }\n",
       "\n",
       "    .dataframe tbody tr th {\n",
       "        vertical-align: top;\n",
       "    }\n",
       "\n",
       "    .dataframe thead th {\n",
       "        text-align: right;\n",
       "    }\n",
       "</style>\n",
       "<table border=\"1\" class=\"dataframe\">\n",
       "  <thead>\n",
       "    <tr style=\"text-align: right;\">\n",
       "      <th></th>\n",
       "      <th>ds</th>\n",
       "      <th>y</th>\n",
       "    </tr>\n",
       "  </thead>\n",
       "  <tbody>\n",
       "    <tr>\n",
       "      <th>0</th>\n",
       "      <td>2003-08-28 11:00:00</td>\n",
       "      <td>1.08310</td>\n",
       "    </tr>\n",
       "    <tr>\n",
       "      <th>1</th>\n",
       "      <td>2003-08-28 12:00:00</td>\n",
       "      <td>1.08379</td>\n",
       "    </tr>\n",
       "    <tr>\n",
       "      <th>2</th>\n",
       "      <td>2003-08-28 13:00:00</td>\n",
       "      <td>1.08724</td>\n",
       "    </tr>\n",
       "    <tr>\n",
       "      <th>3</th>\n",
       "      <td>2003-08-28 14:00:00</td>\n",
       "      <td>1.09056</td>\n",
       "    </tr>\n",
       "    <tr>\n",
       "      <th>4</th>\n",
       "      <td>2003-08-28 15:00:00</td>\n",
       "      <td>1.08932</td>\n",
       "    </tr>\n",
       "  </tbody>\n",
       "</table>\n",
       "</div>"
      ],
      "text/plain": [
       "                   ds        y\n",
       "0 2003-08-28 11:00:00  1.08310\n",
       "1 2003-08-28 12:00:00  1.08379\n",
       "2 2003-08-28 13:00:00  1.08724\n",
       "3 2003-08-28 14:00:00  1.09056\n",
       "4 2003-08-28 15:00:00  1.08932"
      ]
     },
     "execution_count": 96,
     "metadata": {},
     "output_type": "execute_result"
    }
   ],
   "source": [
    "test_data = data.iloc[2000:2250, :]\n",
    "test_data.reset_index(inplace=True)\n",
    "test_data = test_data[[\"ds\", \"close\"]]\n",
    "\n",
    "test_data.rename(columns={\"close\":\"y\"}, inplace=True)\n",
    "\n",
    "test_data.head()\n"
   ]
  },
  {
   "cell_type": "code",
   "execution_count": 101,
   "metadata": {},
   "outputs": [
    {
     "data": {
      "text/html": [
       "<div>\n",
       "<style scoped>\n",
       "    .dataframe tbody tr th:only-of-type {\n",
       "        vertical-align: middle;\n",
       "    }\n",
       "\n",
       "    .dataframe tbody tr th {\n",
       "        vertical-align: top;\n",
       "    }\n",
       "\n",
       "    .dataframe thead th {\n",
       "        text-align: right;\n",
       "    }\n",
       "</style>\n",
       "<table border=\"1\" class=\"dataframe\">\n",
       "  <thead>\n",
       "    <tr style=\"text-align: right;\">\n",
       "      <th></th>\n",
       "      <th>ds</th>\n",
       "    </tr>\n",
       "  </thead>\n",
       "  <tbody>\n",
       "    <tr>\n",
       "      <th>0</th>\n",
       "      <td>2003-08-28 11:00:00</td>\n",
       "    </tr>\n",
       "    <tr>\n",
       "      <th>1</th>\n",
       "      <td>2003-08-28 12:00:00</td>\n",
       "    </tr>\n",
       "    <tr>\n",
       "      <th>2</th>\n",
       "      <td>2003-08-28 13:00:00</td>\n",
       "    </tr>\n",
       "    <tr>\n",
       "      <th>3</th>\n",
       "      <td>2003-08-28 14:00:00</td>\n",
       "    </tr>\n",
       "    <tr>\n",
       "      <th>4</th>\n",
       "      <td>2003-08-28 15:00:00</td>\n",
       "    </tr>\n",
       "  </tbody>\n",
       "</table>\n",
       "</div>"
      ],
      "text/plain": [
       "                   ds\n",
       "0 2003-08-28 11:00:00\n",
       "1 2003-08-28 12:00:00\n",
       "2 2003-08-28 13:00:00\n",
       "3 2003-08-28 14:00:00\n",
       "4 2003-08-28 15:00:00"
      ]
     },
     "execution_count": 101,
     "metadata": {},
     "output_type": "execute_result"
    }
   ],
   "source": [
    "future_df = test_data.drop(columns=[\"y\"])\n",
    "future_df.head()"
   ]
  },
  {
   "cell_type": "code",
   "execution_count": 117,
   "metadata": {},
   "outputs": [
    {
     "data": {
      "text/html": [
       "<div>\n",
       "<style scoped>\n",
       "    .dataframe tbody tr th:only-of-type {\n",
       "        vertical-align: middle;\n",
       "    }\n",
       "\n",
       "    .dataframe tbody tr th {\n",
       "        vertical-align: top;\n",
       "    }\n",
       "\n",
       "    .dataframe thead th {\n",
       "        text-align: right;\n",
       "    }\n",
       "</style>\n",
       "<table border=\"1\" class=\"dataframe\">\n",
       "  <thead>\n",
       "    <tr style=\"text-align: right;\">\n",
       "      <th></th>\n",
       "      <th>yhat</th>\n",
       "      <th>yhat_upper</th>\n",
       "      <th>yhat_lower</th>\n",
       "      <th>true_value</th>\n",
       "    </tr>\n",
       "    <tr>\n",
       "      <th>ds</th>\n",
       "      <th></th>\n",
       "      <th></th>\n",
       "      <th></th>\n",
       "      <th></th>\n",
       "    </tr>\n",
       "  </thead>\n",
       "  <tbody>\n",
       "    <tr>\n",
       "      <th>2003-08-28 11:00:00</th>\n",
       "      <td>1.076817</td>\n",
       "      <td>1.080765</td>\n",
       "      <td>1.072783</td>\n",
       "      <td>1.08310</td>\n",
       "    </tr>\n",
       "    <tr>\n",
       "      <th>2003-08-28 12:00:00</th>\n",
       "      <td>1.076313</td>\n",
       "      <td>1.080247</td>\n",
       "      <td>1.072068</td>\n",
       "      <td>1.08379</td>\n",
       "    </tr>\n",
       "    <tr>\n",
       "      <th>2003-08-28 13:00:00</th>\n",
       "      <td>1.076102</td>\n",
       "      <td>1.079939</td>\n",
       "      <td>1.071914</td>\n",
       "      <td>1.08724</td>\n",
       "    </tr>\n",
       "  </tbody>\n",
       "</table>\n",
       "</div>"
      ],
      "text/plain": [
       "                         yhat  yhat_upper  yhat_lower  true_value\n",
       "ds                                                               \n",
       "2003-08-28 11:00:00  1.076817    1.080765    1.072783     1.08310\n",
       "2003-08-28 12:00:00  1.076313    1.080247    1.072068     1.08379\n",
       "2003-08-28 13:00:00  1.076102    1.079939    1.071914     1.08724"
      ]
     },
     "execution_count": 117,
     "metadata": {},
     "output_type": "execute_result"
    }
   ],
   "source": [
    "forecast = model.predict(future_df)\n",
    "forecast = forecast[[\"yhat\", \"yhat_upper\", \"yhat_lower\"]]\n",
    "forecast.index = test_data.ds\n",
    "forecast[\"true_value\"] = test_data[\"y\"].values\n",
    "forecast.head(3)"
   ]
  },
  {
   "cell_type": "code",
   "execution_count": 119,
   "metadata": {},
   "outputs": [
    {
     "data": {
      "text/plain": [
       "<matplotlib.legend.Legend at 0x7f9a58f1a340>"
      ]
     },
     "execution_count": 119,
     "metadata": {},
     "output_type": "execute_result"
    },
    {
     "data": {
      "image/png": "[encoded data removed]",
      "text/plain": [
       "<Figure size 640x480 with 1 Axes>"
      ]
     },
     "metadata": {},
     "output_type": "display_data"
    }
   ],
   "source": [
    "forecast[[\"yhat\", \"true_value\"]].plot()\n",
    "plt.legend()"
   ]
  },
  {
   "cell_type": "code",
   "execution_count": null,
   "metadata": {},
   "outputs": [],
   "source": []
  }
 ],
 "metadata": {
  "kernelspec": {
   "display_name": "robot",
   "language": "python",
   "name": "python3"
  },
  "language_info": {
   "codemirror_mode": {
    "name": "ipython",
    "version": 3
   },
   "file_extension": ".py",
   "mimetype": "text/x-python",
   "name": "python",
   "nbconvert_exporter": "python",
   "pygments_lexer": "ipython3",
   "version": "3.9.16"
  }
 },
 "nbformat": 4,
 "nbformat_minor": 4
}
