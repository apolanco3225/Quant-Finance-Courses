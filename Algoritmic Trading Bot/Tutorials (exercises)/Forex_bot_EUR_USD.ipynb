{
 "cells": [
  {
   "cell_type": "code",
   "execution_count": 1,
   "metadata": {},
   "outputs": [],
   "source": [
    "import pandas as pd"
   ]
  },
  {
   "cell_type": "code",
   "execution_count": 2,
   "metadata": {},
   "outputs": [
    {
     "data": {
      "text/html": [
       "<div>\n",
       "<style scoped>\n",
       "    .dataframe tbody tr th:only-of-type {\n",
       "        vertical-align: middle;\n",
       "    }\n",
       "\n",
       "    .dataframe tbody tr th {\n",
       "        vertical-align: top;\n",
       "    }\n",
       "\n",
       "    .dataframe thead th {\n",
       "        text-align: right;\n",
       "    }\n",
       "</style>\n",
       "<table border=\"1\" class=\"dataframe\">\n",
       "  <thead>\n",
       "    <tr style=\"text-align: right;\">\n",
       "      <th></th>\n",
       "      <th>Open</th>\n",
       "      <th>High</th>\n",
       "      <th>Low</th>\n",
       "      <th>Close</th>\n",
       "      <th>Volume</th>\n",
       "    </tr>\n",
       "    <tr>\n",
       "      <th>time</th>\n",
       "      <th></th>\n",
       "      <th></th>\n",
       "      <th></th>\n",
       "      <th></th>\n",
       "      <th></th>\n",
       "    </tr>\n",
       "  </thead>\n",
       "  <tbody>\n",
       "    <tr>\n",
       "      <th>01.02.2021 00:00:00.000 GMT-0500</th>\n",
       "      <td>0.89187</td>\n",
       "      <td>0.89199</td>\n",
       "      <td>0.89155</td>\n",
       "      <td>0.89171</td>\n",
       "      <td>1055.5601</td>\n",
       "    </tr>\n",
       "    <tr>\n",
       "      <th>01.02.2021 01:00:00.000 GMT-0500</th>\n",
       "      <td>0.89172</td>\n",
       "      <td>0.89179</td>\n",
       "      <td>0.89136</td>\n",
       "      <td>0.89153</td>\n",
       "      <td>993.1500</td>\n",
       "    </tr>\n",
       "    <tr>\n",
       "      <th>01.02.2021 02:00:00.000 GMT-0500</th>\n",
       "      <td>0.89153</td>\n",
       "      <td>0.89222</td>\n",
       "      <td>0.89146</td>\n",
       "      <td>0.89187</td>\n",
       "      <td>2582.9299</td>\n",
       "    </tr>\n",
       "    <tr>\n",
       "      <th>01.02.2021 03:00:00.000 GMT-0500</th>\n",
       "      <td>0.89188</td>\n",
       "      <td>0.89512</td>\n",
       "      <td>0.89127</td>\n",
       "      <td>0.89511</td>\n",
       "      <td>8633.9502</td>\n",
       "    </tr>\n",
       "    <tr>\n",
       "      <th>01.02.2021 04:00:00.000 GMT-0500</th>\n",
       "      <td>0.89511</td>\n",
       "      <td>0.89570</td>\n",
       "      <td>0.89411</td>\n",
       "      <td>0.89479</td>\n",
       "      <td>6945.9502</td>\n",
       "    </tr>\n",
       "  </tbody>\n",
       "</table>\n",
       "</div>"
      ],
      "text/plain": [
       "                                     Open     High      Low    Close  \\\n",
       "time                                                                   \n",
       "01.02.2021 00:00:00.000 GMT-0500  0.89187  0.89199  0.89155  0.89171   \n",
       "01.02.2021 01:00:00.000 GMT-0500  0.89172  0.89179  0.89136  0.89153   \n",
       "01.02.2021 02:00:00.000 GMT-0500  0.89153  0.89222  0.89146  0.89187   \n",
       "01.02.2021 03:00:00.000 GMT-0500  0.89188  0.89512  0.89127  0.89511   \n",
       "01.02.2021 04:00:00.000 GMT-0500  0.89511  0.89570  0.89411  0.89479   \n",
       "\n",
       "                                     Volume  \n",
       "time                                         \n",
       "01.02.2021 00:00:00.000 GMT-0500  1055.5601  \n",
       "01.02.2021 01:00:00.000 GMT-0500   993.1500  \n",
       "01.02.2021 02:00:00.000 GMT-0500  2582.9299  \n",
       "01.02.2021 03:00:00.000 GMT-0500  8633.9502  \n",
       "01.02.2021 04:00:00.000 GMT-0500  6945.9502  "
      ]
     },
     "execution_count": 2,
     "metadata": {},
     "output_type": "execute_result"
    }
   ],
   "source": [
    "data = pd.read_csv(\n",
    "    \"data/USDCHF_Candlestick_1_Hour_BID_01.02.2021-06.02.2021.csv\"\n",
    ")\n",
    "data.rename(columns={\"Local time\": \"time\"}, inplace=True)\n",
    "data.set_index(\"time\", inplace=True)\n",
    "#data.columns = [column.lower() for column in data.columns]\n",
    "data.head()"
   ]
  },
  {
   "cell_type": "code",
   "execution_count": 4,
   "metadata": {},
   "outputs": [],
   "source": [
    "data = data.query(\"Volume != 0\")"
   ]
  },
  {
   "cell_type": "code",
   "execution_count": 5,
   "metadata": {},
   "outputs": [
    {
     "ename": "ImportError",
     "evalue": "dlopen(/Users/arturopolancolozano/opt/anaconda3/lib/python3.9/site-packages/talib/_ta_lib.cpython-39-darwin.so, 0x0002): symbol not found in flat namespace '_TA_ACOS'",
     "output_type": "error",
     "traceback": [
      "\u001b[0;31m---------------------------------------------------------------------------\u001b[0m",
      "\u001b[0;31mImportError\u001b[0m                               Traceback (most recent call last)",
      "Cell \u001b[0;32mIn[5], line 5\u001b[0m\n\u001b[1;32m      2\u001b[0m \u001b[38;5;28;01mimport\u001b[39;00m \u001b[38;5;21;01mpandas_ta\u001b[39;00m \u001b[38;5;28;01mas\u001b[39;00m \u001b[38;5;21;01mta\u001b[39;00m\n\u001b[1;32m      4\u001b[0m \u001b[38;5;66;03m# average true range\u001b[39;00m\n\u001b[0;32m----> 5\u001b[0m data[\u001b[38;5;124m\"\u001b[39m\u001b[38;5;124matr\u001b[39m\u001b[38;5;124m\"\u001b[39m] \u001b[38;5;241m=\u001b[39m \u001b[43mdata\u001b[49m\u001b[38;5;241;43m.\u001b[39;49m\u001b[43mta\u001b[49m\u001b[38;5;241;43m.\u001b[39;49m\u001b[43matr\u001b[49m\u001b[43m(\u001b[49m\u001b[43mlength\u001b[49m\u001b[38;5;241;43m=\u001b[39;49m\u001b[38;5;241;43m20\u001b[39;49m\u001b[43m)\u001b[49m\n\u001b[1;32m      6\u001b[0m \u001b[38;5;66;03m# relative strength index\u001b[39;00m\n\u001b[1;32m      7\u001b[0m data[\u001b[38;5;124m\"\u001b[39m\u001b[38;5;124mrsi\u001b[39m\u001b[38;5;124m\"\u001b[39m] \u001b[38;5;241m=\u001b[39m data\u001b[38;5;241m.\u001b[39mta\u001b[38;5;241m.\u001b[39mrsi()\n",
      "File \u001b[0;32m~/opt/anaconda3/lib/python3.9/site-packages/pandas_ta/core.py:1575\u001b[0m, in \u001b[0;36mAnalysisIndicators.atr\u001b[0;34m(self, length, mamode, offset, **kwargs)\u001b[0m\n\u001b[1;32m   1573\u001b[0m low \u001b[38;5;241m=\u001b[39m \u001b[38;5;28mself\u001b[39m\u001b[38;5;241m.\u001b[39m_get_column(kwargs\u001b[38;5;241m.\u001b[39mpop(\u001b[38;5;124m\"\u001b[39m\u001b[38;5;124mlow\u001b[39m\u001b[38;5;124m\"\u001b[39m, \u001b[38;5;124m\"\u001b[39m\u001b[38;5;124mlow\u001b[39m\u001b[38;5;124m\"\u001b[39m))\n\u001b[1;32m   1574\u001b[0m close \u001b[38;5;241m=\u001b[39m \u001b[38;5;28mself\u001b[39m\u001b[38;5;241m.\u001b[39m_get_column(kwargs\u001b[38;5;241m.\u001b[39mpop(\u001b[38;5;124m\"\u001b[39m\u001b[38;5;124mclose\u001b[39m\u001b[38;5;124m\"\u001b[39m, \u001b[38;5;124m\"\u001b[39m\u001b[38;5;124mclose\u001b[39m\u001b[38;5;124m\"\u001b[39m))\n\u001b[0;32m-> 1575\u001b[0m result \u001b[38;5;241m=\u001b[39m \u001b[43matr\u001b[49m\u001b[43m(\u001b[49m\u001b[43mhigh\u001b[49m\u001b[38;5;241;43m=\u001b[39;49m\u001b[43mhigh\u001b[49m\u001b[43m,\u001b[49m\u001b[43m \u001b[49m\u001b[43mlow\u001b[49m\u001b[38;5;241;43m=\u001b[39;49m\u001b[43mlow\u001b[49m\u001b[43m,\u001b[49m\u001b[43m \u001b[49m\u001b[43mclose\u001b[49m\u001b[38;5;241;43m=\u001b[39;49m\u001b[43mclose\u001b[49m\u001b[43m,\u001b[49m\u001b[43m \u001b[49m\u001b[43mlength\u001b[49m\u001b[38;5;241;43m=\u001b[39;49m\u001b[43mlength\u001b[49m\u001b[43m,\u001b[49m\u001b[43m \u001b[49m\u001b[43mmamode\u001b[49m\u001b[38;5;241;43m=\u001b[39;49m\u001b[43mmamode\u001b[49m\u001b[43m,\u001b[49m\u001b[43m \u001b[49m\u001b[43moffset\u001b[49m\u001b[38;5;241;43m=\u001b[39;49m\u001b[43moffset\u001b[49m\u001b[43m,\u001b[49m\u001b[43m \u001b[49m\u001b[38;5;241;43m*\u001b[39;49m\u001b[38;5;241;43m*\u001b[39;49m\u001b[43mkwargs\u001b[49m\u001b[43m)\u001b[49m\n\u001b[1;32m   1576\u001b[0m \u001b[38;5;28;01mreturn\u001b[39;00m \u001b[38;5;28mself\u001b[39m\u001b[38;5;241m.\u001b[39m_post_process(result, \u001b[38;5;241m*\u001b[39m\u001b[38;5;241m*\u001b[39mkwargs)\n",
      "File \u001b[0;32m~/opt/anaconda3/lib/python3.9/site-packages/pandas_ta/volatility/atr.py:24\u001b[0m, in \u001b[0;36matr\u001b[0;34m(high, low, close, length, mamode, talib, drift, offset, **kwargs)\u001b[0m\n\u001b[1;32m     22\u001b[0m \u001b[38;5;66;03m# Calculate Result\u001b[39;00m\n\u001b[1;32m     23\u001b[0m \u001b[38;5;28;01mif\u001b[39;00m Imports[\u001b[38;5;124m\"\u001b[39m\u001b[38;5;124mtalib\u001b[39m\u001b[38;5;124m\"\u001b[39m] \u001b[38;5;129;01mand\u001b[39;00m mode_tal:\n\u001b[0;32m---> 24\u001b[0m     \u001b[38;5;28;01mfrom\u001b[39;00m \u001b[38;5;21;01mtalib\u001b[39;00m \u001b[38;5;28;01mimport\u001b[39;00m ATR\n\u001b[1;32m     25\u001b[0m     atr \u001b[38;5;241m=\u001b[39m ATR(high, low, close, length)\n\u001b[1;32m     26\u001b[0m \u001b[38;5;28;01melse\u001b[39;00m:\n",
      "File \u001b[0;32m~/opt/anaconda3/lib/python3.9/site-packages/talib/__init__.py:93\u001b[0m\n\u001b[1;32m     89\u001b[0m \u001b[38;5;28;01melse\u001b[39;00m:\n\u001b[1;32m     90\u001b[0m     _wrapper \u001b[38;5;241m=\u001b[39m \u001b[38;5;28;01mlambda\u001b[39;00m x: x\n\u001b[0;32m---> 93\u001b[0m \u001b[38;5;28;01mfrom\u001b[39;00m \u001b[38;5;21;01m.\u001b[39;00m\u001b[38;5;21;01m_ta_lib\u001b[39;00m \u001b[38;5;28;01mimport\u001b[39;00m (\n\u001b[1;32m     94\u001b[0m     _ta_initialize, _ta_shutdown, MA_Type, __ta_version__,\n\u001b[1;32m     95\u001b[0m     _ta_set_unstable_period \u001b[38;5;28;01mas\u001b[39;00m set_unstable_period,\n\u001b[1;32m     96\u001b[0m     _ta_get_unstable_period \u001b[38;5;28;01mas\u001b[39;00m get_unstable_period,\n\u001b[1;32m     97\u001b[0m     _ta_set_compatibility \u001b[38;5;28;01mas\u001b[39;00m set_compatibility,\n\u001b[1;32m     98\u001b[0m     _ta_get_compatibility \u001b[38;5;28;01mas\u001b[39;00m get_compatibility,\n\u001b[1;32m     99\u001b[0m     __TA_FUNCTION_NAMES__\n\u001b[1;32m    100\u001b[0m )\n\u001b[1;32m    102\u001b[0m \u001b[38;5;66;03m# import all the func and stream functions\u001b[39;00m\n\u001b[1;32m    103\u001b[0m \u001b[38;5;28;01mfrom\u001b[39;00m \u001b[38;5;21;01m.\u001b[39;00m\u001b[38;5;21;01m_ta_lib\u001b[39;00m \u001b[38;5;28;01mimport\u001b[39;00m \u001b[38;5;241m*\u001b[39m\n",
      "\u001b[0;31mImportError\u001b[0m: dlopen(/Users/arturopolancolozano/opt/anaconda3/lib/python3.9/site-packages/talib/_ta_lib.cpython-39-darwin.so, 0x0002): symbol not found in flat namespace '_TA_ACOS'"
     ]
    }
   ],
   "source": [
    "import numpy as np\n",
    "import pandas_ta as ta\n",
    "\n",
    "# average true range\n",
    "data[\"atr\"] = data.ta.atr(length=20)\n",
    "# relative strength index\n",
    "data[\"rsi\"] = data.ta.rsi()"
   ]
  },
  {
   "cell_type": "code",
   "execution_count": null,
   "metadata": {},
   "outputs": [],
   "source": [
    "data.ta.indicators()"
   ]
  },
  {
   "cell_type": "code",
   "execution_count": null,
   "metadata": {},
   "outputs": [],
   "source": []
  }
 ],
 "metadata": {
  "kernelspec": {
   "display_name": "graphml",
   "language": "python",
   "name": "graphml"
  },
  "language_info": {
   "codemirror_mode": {
    "name": "ipython",
    "version": 3
   },
   "file_extension": ".py",
   "mimetype": "text/x-python",
   "name": "python",
   "nbconvert_exporter": "python",
   "pygments_lexer": "ipython3",
   "version": "3.9.12"
  }
 },
 "nbformat": 4,
 "nbformat_minor": 4
}
