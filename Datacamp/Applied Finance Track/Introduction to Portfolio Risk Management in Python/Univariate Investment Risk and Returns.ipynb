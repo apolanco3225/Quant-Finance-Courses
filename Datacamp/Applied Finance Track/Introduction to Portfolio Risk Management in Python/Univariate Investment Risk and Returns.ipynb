{
 "cells": [
  {
   "cell_type": "code",
   "execution_count": 1,
   "id": "112c131e-4709-4cf8-b69c-754dc485f9ae",
   "metadata": {},
   "outputs": [],
   "source": [
    "import pandas as pd \n",
    "import numpy as np\n",
    "\n",
    "import matplotlib.pyplot as plt\n",
    "import seaborn as sns\n",
    "sns.set_style(\"darkgrid\")"
   ]
  },
  {
   "cell_type": "markdown",
   "id": "dfdbb47c-a8de-4777-b7da-0914a51f570a",
   "metadata": {},
   "source": [
    "# Financial Returns"
   ]
  },
  {
   "cell_type": "code",
   "execution_count": 7,
   "id": "a6299b1a-e4d1-440d-b8c6-73cbe6b5ab02",
   "metadata": {},
   "outputs": [
    {
     "data": {
      "text/html": [
       "<div>\n",
       "<style scoped>\n",
       "    .dataframe tbody tr th:only-of-type {\n",
       "        vertical-align: middle;\n",
       "    }\n",
       "\n",
       "    .dataframe tbody tr th {\n",
       "        vertical-align: top;\n",
       "    }\n",
       "\n",
       "    .dataframe thead th {\n",
       "        text-align: right;\n",
       "    }\n",
       "</style>\n",
       "<table border=\"1\" class=\"dataframe\">\n",
       "  <thead>\n",
       "    <tr style=\"text-align: right;\">\n",
       "      <th></th>\n",
       "      <th>Open</th>\n",
       "      <th>High</th>\n",
       "      <th>Low</th>\n",
       "      <th>Close</th>\n",
       "      <th>Volume</th>\n",
       "      <th>Adjusted</th>\n",
       "    </tr>\n",
       "    <tr>\n",
       "      <th>Date</th>\n",
       "      <th></th>\n",
       "      <th></th>\n",
       "      <th></th>\n",
       "      <th></th>\n",
       "      <th></th>\n",
       "      <th></th>\n",
       "    </tr>\n",
       "  </thead>\n",
       "  <tbody>\n",
       "    <tr>\n",
       "      <th>2000-01-03</th>\n",
       "      <td>88.777</td>\n",
       "      <td>89.722</td>\n",
       "      <td>84.712</td>\n",
       "      <td>58.28125</td>\n",
       "      <td>53228400</td>\n",
       "      <td>38.527809</td>\n",
       "    </tr>\n",
       "    <tr>\n",
       "      <th>2000-01-04</th>\n",
       "      <td>85.893</td>\n",
       "      <td>88.588</td>\n",
       "      <td>84.901</td>\n",
       "      <td>56.31250</td>\n",
       "      <td>54119000</td>\n",
       "      <td>37.226345</td>\n",
       "    </tr>\n",
       "    <tr>\n",
       "      <th>2000-01-05</th>\n",
       "      <td>84.050</td>\n",
       "      <td>88.021</td>\n",
       "      <td>82.726</td>\n",
       "      <td>56.90625</td>\n",
       "      <td>64059600</td>\n",
       "      <td>37.618851</td>\n",
       "    </tr>\n",
       "    <tr>\n",
       "      <th>2000-01-06</th>\n",
       "      <td>84.853</td>\n",
       "      <td>86.130</td>\n",
       "      <td>81.970</td>\n",
       "      <td>55.00000</td>\n",
       "      <td>54976600</td>\n",
       "      <td>36.358688</td>\n",
       "    </tr>\n",
       "    <tr>\n",
       "      <th>2000-01-07</th>\n",
       "      <td>82.159</td>\n",
       "      <td>84.901</td>\n",
       "      <td>81.166</td>\n",
       "      <td>55.71875</td>\n",
       "      <td>62013600</td>\n",
       "      <td>36.833828</td>\n",
       "    </tr>\n",
       "  </tbody>\n",
       "</table>\n",
       "</div>"
      ],
      "text/plain": [
       "              Open    High     Low     Close    Volume   Adjusted\n",
       "Date                                                             \n",
       "2000-01-03  88.777  89.722  84.712  58.28125  53228400  38.527809\n",
       "2000-01-04  85.893  88.588  84.901  56.31250  54119000  37.226345\n",
       "2000-01-05  84.050  88.021  82.726  56.90625  64059600  37.618851\n",
       "2000-01-06  84.853  86.130  81.970  55.00000  54976600  36.358688\n",
       "2000-01-07  82.159  84.901  81.166  55.71875  62013600  36.833828"
      ]
     },
     "execution_count": 7,
     "metadata": {},
     "output_type": "execute_result"
    }
   ],
   "source": [
    "data = pd.read_csv(\n",
    "    \"data/MSFTPrices.csv\",\n",
    "    parse_dates=[\"Date\"]\n",
    ")\n",
    "\n",
    "data.sort_values(by=\"Date\")\n",
    "data.set_index(\"Date\", inplace=True)\n",
    "\n",
    "data.head()"
   ]
  },
  {
   "cell_type": "code",
   "execution_count": 9,
   "id": "c59c3b5f-4bb5-4b36-ad0a-eb850c9014a6",
   "metadata": {},
   "outputs": [
    {
     "data": {
      "text/html": [
       "<div>\n",
       "<style scoped>\n",
       "    .dataframe tbody tr th:only-of-type {\n",
       "        vertical-align: middle;\n",
       "    }\n",
       "\n",
       "    .dataframe tbody tr th {\n",
       "        vertical-align: top;\n",
       "    }\n",
       "\n",
       "    .dataframe thead th {\n",
       "        text-align: right;\n",
       "    }\n",
       "</style>\n",
       "<table border=\"1\" class=\"dataframe\">\n",
       "  <thead>\n",
       "    <tr style=\"text-align: right;\">\n",
       "      <th></th>\n",
       "      <th>Open</th>\n",
       "      <th>High</th>\n",
       "      <th>Low</th>\n",
       "      <th>Close</th>\n",
       "      <th>Volume</th>\n",
       "      <th>Adjusted</th>\n",
       "      <th>returns</th>\n",
       "    </tr>\n",
       "    <tr>\n",
       "      <th>Date</th>\n",
       "      <th></th>\n",
       "      <th></th>\n",
       "      <th></th>\n",
       "      <th></th>\n",
       "      <th></th>\n",
       "      <th></th>\n",
       "      <th></th>\n",
       "    </tr>\n",
       "  </thead>\n",
       "  <tbody>\n",
       "    <tr>\n",
       "      <th>2000-01-03</th>\n",
       "      <td>88.777</td>\n",
       "      <td>89.722</td>\n",
       "      <td>84.712</td>\n",
       "      <td>58.28125</td>\n",
       "      <td>53228400</td>\n",
       "      <td>38.527809</td>\n",
       "      <td>NaN</td>\n",
       "    </tr>\n",
       "    <tr>\n",
       "      <th>2000-01-04</th>\n",
       "      <td>85.893</td>\n",
       "      <td>88.588</td>\n",
       "      <td>84.901</td>\n",
       "      <td>56.31250</td>\n",
       "      <td>54119000</td>\n",
       "      <td>37.226345</td>\n",
       "      <td>-0.033780</td>\n",
       "    </tr>\n",
       "    <tr>\n",
       "      <th>2000-01-05</th>\n",
       "      <td>84.050</td>\n",
       "      <td>88.021</td>\n",
       "      <td>82.726</td>\n",
       "      <td>56.90625</td>\n",
       "      <td>64059600</td>\n",
       "      <td>37.618851</td>\n",
       "      <td>0.010544</td>\n",
       "    </tr>\n",
       "  </tbody>\n",
       "</table>\n",
       "</div>"
      ],
      "text/plain": [
       "              Open    High     Low     Close    Volume   Adjusted   returns\n",
       "Date                                                                       \n",
       "2000-01-03  88.777  89.722  84.712  58.28125  53228400  38.527809       NaN\n",
       "2000-01-04  85.893  88.588  84.901  56.31250  54119000  37.226345 -0.033780\n",
       "2000-01-05  84.050  88.021  82.726  56.90625  64059600  37.618851  0.010544"
      ]
     },
     "execution_count": 9,
     "metadata": {},
     "output_type": "execute_result"
    }
   ],
   "source": [
    "data[\"returns\"] = data[\"Adjusted\"].pct_change()\n",
    "data.head(3)"
   ]
  },
  {
   "cell_type": "code",
   "execution_count": 12,
   "id": "a801f04d-a564-47e9-9bf0-e52b6ed9c062",
   "metadata": {},
   "outputs": [
    {
     "data": {
      "image/png": "[encoded data removed]",
      "text/plain": [
       "<Figure size 640x480 with 1 Axes>"
      ]
     },
     "metadata": {},
     "output_type": "display_data"
    }
   ],
   "source": [
    "data.returns.plot()\n",
    "plt.title(\"Microsoft Returns\")\n",
    "plt.ylabel(\"Returns\");"
   ]
  },
  {
   "cell_type": "code",
   "execution_count": 14,
   "id": "3cddfa24-b7f2-4c20-9c32-c7e0c14c9314",
   "metadata": {},
   "outputs": [
    {
     "data": {
      "image/png": "[encoded data removed]",
      "text/plain": [
       "<Figure size 640x480 with 1 Axes>"
      ]
     },
     "metadata": {},
     "output_type": "display_data"
    }
   ],
   "source": [
    "percent_returns = data.returns * 100\n",
    "percent_returns.dropna(inplace=True)\n",
    "\n",
    "plt.hist(percent_returns, bins=75)\n",
    "plt.title(\"Percent Returns Hist\");"
   ]
  },
  {
   "cell_type": "markdown",
   "id": "1ce8a1bc-ebff-4e56-b550-65593e7dc20d",
   "metadata": {},
   "source": [
    "# Mean, variance, and normal distribution\n"
   ]
  },
  {
   "cell_type": "code",
   "execution_count": 18,
   "id": "bb0f93fa-502c-41d3-bd67-121ca52e3181",
   "metadata": {},
   "outputs": [
    {
     "name": "stdout",
     "output_type": "stream",
     "text": [
      "Mean return: 0.000378\n"
     ]
    }
   ],
   "source": [
    "mean_return_daily = data.returns.mean()\n",
    "print(f\"Mean return: {mean_return_daily:5f}\")"
   ]
  },
  {
   "cell_type": "code",
   "execution_count": 23,
   "id": "bd912169-0d6a-411e-89eb-66005c24f5bf",
   "metadata": {},
   "outputs": [
    {
     "name": "stdout",
     "output_type": "stream",
     "text": [
      "Mean return annualized: 0.099858\n"
     ]
    }
   ],
   "source": [
    "mean_return_annualized = ((1 + mean_return_daily)** 252) -1\n",
    "print(f\"Mean return annualized: {mean_return_annualized:5f}\")"
   ]
  },
  {
   "cell_type": "code",
   "execution_count": 25,
   "id": "f24f598d-65b2-4894-ae7a-ab923b240026",
   "metadata": {},
   "outputs": [
    {
     "name": "stdout",
     "output_type": "stream",
     "text": [
      "Daily Standard Deviation: 0.01934\n"
     ]
    }
   ],
   "source": [
    "sigma_daily = np.std(data.returns)\n",
    "print(f\"Daily Standard Deviation: {sigma_daily:.5f}\")"
   ]
  },
  {
   "cell_type": "code",
   "execution_count": 26,
   "id": "846338bc-099c-4d40-aff6-bf77c1638fe8",
   "metadata": {},
   "outputs": [
    {
     "name": "stdout",
     "output_type": "stream",
     "text": [
      "Daily Variance: 0.00037\n"
     ]
    }
   ],
   "source": [
    "variance_daily = sigma_daily ** 2\n",
    "print(f\"Daily Variance: {variance_daily:.5f}\")"
   ]
  },
  {
   "cell_type": "code",
   "execution_count": 27,
   "id": "85d2d1ca-186d-403e-bfab-eeb1a187b5c5",
   "metadata": {},
   "outputs": [
    {
     "name": "stdout",
     "output_type": "stream",
     "text": [
      "0.3070304505826317\n",
      "0.09426769758497383\n"
     ]
    }
   ],
   "source": [
    "#Annualizing variance\n",
    "\n",
    "sigma_annualized = sigma_daily*np.sqrt(252)\n",
    "print(sigma_annualized)\n",
    "\n",
    "# Calculate the annualized variance\n",
    "variance_annualized = sigma_annualized ** 2\n",
    "print(variance_annualized)"
   ]
  },
  {
   "cell_type": "markdown",
   "id": "486984dc-f5cc-4d82-913c-c80d0c90fa97",
   "metadata": {},
   "source": [
    "# Skewness and kurtosis\n",
    "\n",
    "Test for normality using Shapiro-Wilk Test"
   ]
  },
  {
   "cell_type": "code",
   "execution_count": 37,
   "id": "4682f1e0-cadb-4454-9d58-3b8865710a7b",
   "metadata": {},
   "outputs": [],
   "source": [
    "from scipy.stats import skew, kurtosis, shapiro"
   ]
  },
  {
   "cell_type": "code",
   "execution_count": 34,
   "id": "09bb1b96-d8a6-4cba-99d6-4e151aa6996f",
   "metadata": {},
   "outputs": [
    {
     "data": {
      "text/plain": [
       "0.21935459193067805"
      ]
     },
     "execution_count": 34,
     "metadata": {},
     "output_type": "execute_result"
    }
   ],
   "source": [
    "skew(data.returns.dropna())"
   ]
  },
  {
   "cell_type": "code",
   "execution_count": 35,
   "id": "6e4c48c7-01ac-4984-b97a-9e334bc4d34b",
   "metadata": {},
   "outputs": [
    {
     "data": {
      "text/plain": [
       "10.314572618025519"
      ]
     },
     "execution_count": 35,
     "metadata": {},
     "output_type": "execute_result"
    }
   ],
   "source": [
    "# excess of kurtosis\n",
    "kurtosis(data.returns.dropna())"
   ]
  },
  {
   "cell_type": "code",
   "execution_count": 36,
   "id": "b7b16415-eb12-47dd-8594-9296065b8298",
   "metadata": {},
   "outputs": [
    {
     "data": {
      "text/plain": [
       "13.314572618025519"
      ]
     },
     "execution_count": 36,
     "metadata": {},
     "output_type": "execute_result"
    }
   ],
   "source": [
    "kurtosis(data.returns.dropna()) + 3"
   ]
  },
  {
   "cell_type": "code",
   "execution_count": 38,
   "id": "091edc64-3412-4f8e-8f9d-2124dbc16c95",
   "metadata": {},
   "outputs": [
    {
     "data": {
      "text/plain": [
       "ShapiroResult(statistic=0.9003633260726929, pvalue=0.0)"
      ]
     },
     "execution_count": 38,
     "metadata": {},
     "output_type": "execute_result"
    }
   ],
   "source": [
    "shapiro(data.returns.dropna())"
   ]
  },
  {
   "cell_type": "code",
   "execution_count": null,
   "id": "b3b7378e-4dff-407f-a0aa-6810a80be851",
   "metadata": {},
   "outputs": [],
   "source": []
  }
 ],
 "metadata": {
  "kernelspec": {
   "display_name": "graphml",
   "language": "python",
   "name": "graphml"
  },
  "language_info": {
   "codemirror_mode": {
    "name": "ipython",
    "version": 3
   },
   "file_extension": ".py",
   "mimetype": "text/x-python",
   "name": "python",
   "nbconvert_exporter": "python",
   "pygments_lexer": "ipython3",
   "version": "3.9.12"
  }
 },
 "nbformat": 4,
 "nbformat_minor": 5
}
